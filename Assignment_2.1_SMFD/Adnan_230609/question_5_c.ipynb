{
  "nbformat": 4,
  "nbformat_minor": 0,
  "metadata": {
    "colab": {
      "provenance": []
    },
    "kernelspec": {
      "name": "python3",
      "display_name": "Python 3"
    },
    "language_info": {
      "name": "python"
    }
  },
  "cells": [
    {
      "cell_type": "code",
      "execution_count": 3,
      "metadata": {
        "id": "EIwVIfwO97fn"
      },
      "outputs": [],
      "source": [
        "import numpy as np"
      ]
    },
    {
      "cell_type": "code",
      "source": [
        "def simulate_american_option(num_simulations=100000):\n",
        "    initial_value = 120.0\n",
        "    threshold = 121.0\n",
        "    tick = 0.01\n",
        "    total_steps = 2160\n",
        "    reached_goal = 0\n",
        "\n",
        "    for _ in range(num_simulations):\n",
        "        current = initial_value\n",
        "        for _ in range(total_steps):\n",
        "            delta = np.random.choice(\n",
        "                [tick, 0.0, -tick],\n",
        "                p=[0.1, 0.85, 0.05]\n",
        "            )\n",
        "            current += delta\n",
        "            if current >= threshold:\n",
        "                reached_goal += 1\n",
        "                break  # early exercise condition met\n",
        "\n",
        "    return reached_goal / num_simulations"
      ],
      "metadata": {
        "id": "Lvn5Ixjh-F9Y"
      },
      "execution_count": 5,
      "outputs": []
    },
    {
      "cell_type": "code",
      "source": [
        "# Quick test with fewer simulations\n",
        "prob = simulate_american_option(num_simulations=1000)\n",
        "print(f\"Probability of hitting ₹5 gain before 1 PM: {prob:.4f}\")"
      ],
      "metadata": {
        "colab": {
          "base_uri": "https://localhost:8080/"
        },
        "id": "zstF192Y-M5e",
        "outputId": "67c66328-8e14-49d4-8f81-76b8b315ec80"
      },
      "execution_count": 7,
      "outputs": [
        {
          "output_type": "stream",
          "name": "stdout",
          "text": [
            "Probability of hitting ₹5 gain before 1 PM: 0.6790\n"
          ]
        }
      ]
    }
  ]
}